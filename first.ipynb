{
 "cells": [
  {
   "cell_type": "markdown",
   "metadata": {},
   "source": [
    "# 1st day\n"
   ]
  },
  {
   "cell_type": "code",
   "execution_count": null,
   "metadata": {},
   "outputs": [],
   "source": [
    "name=input(\"Enter the value of name:\")"
   ]
  },
  {
   "cell_type": "code",
   "execution_count": null,
   "metadata": {},
   "outputs": [],
   "source": [
    "print(\"Greatings!\",name)"
   ]
  },
  {
   "cell_type": "code",
   "execution_count": 23,
   "metadata": {},
   "outputs": [
    {
     "name": "stdout",
     "output_type": "stream",
     "text": [
      "PRINCE Prince\n"
     ]
    }
   ],
   "source": [
    "##strings\n",
    "name='prince'\n",
    "type(name)\n",
    "name +\"@\"\n",
    "name * 4\n",
    "##strings functions\n",
    "name.upper()\n",
    "name.lower()\n",
    "name.capitalize()\n",
    "name.count('p')\n",
    "name.split('r')\n",
    "name.replace('p','@')\n",
    "print(name.upper(),name.capitalize())"
   ]
  },
  {
   "cell_type": "code",
   "execution_count": 22,
   "metadata": {},
   "outputs": [
    {
     "data": {
      "text/plain": [
       "complex"
      ]
     },
     "execution_count": 22,
     "metadata": {},
     "output_type": "execute_result"
    }
   ],
   "source": [
    "##Number\n",
    "#int\n",
    "age=25\n",
    "type(age)\n",
    "#float\n",
    "weight=69.7\n",
    "type(weight)\n",
    "#Boolean\n",
    "is_married=True\n",
    "type(is_married)\n",
    "##complex\n",
    "com=2+3j\n",
    "type(com)\n"
   ]
  },
  {
   "cell_type": "code",
   "execution_count": 35,
   "metadata": {},
   "outputs": [
    {
     "name": "stdout",
     "output_type": "stream",
     "text": [
      "True\n"
     ]
    },
    {
     "data": {
      "text/plain": [
       "'(3+0j)'"
      ]
     },
     "execution_count": 35,
     "metadata": {},
     "output_type": "execute_result"
    }
   ],
   "source": [
    "## type convertion\n",
    "n='24'\n",
    "newn=int(n)\n",
    "type(newn)\n",
    "fn=float(newn)\n",
    "type(fn)\n",
    "bn=bool(fn)\n",
    "print(bn)\n",
    "bool(\"\")\n",
    "complex('2')\n",
    "c=complex('3')\n",
    "str(c)"
   ]
  },
  {
   "cell_type": "code",
   "execution_count": 37,
   "metadata": {},
   "outputs": [
    {
     "name": "stdout",
     "output_type": "stream",
     "text": [
      "Your account Created Successfully!\n"
     ]
    },
    {
     "data": {
      "text/plain": [
       "(int, float)"
      ]
     },
     "execution_count": 37,
     "metadata": {},
     "output_type": "execute_result"
    }
   ],
   "source": [
    "\n",
    "name=input('Enter Name:')\n",
    "age=int(input('Enter age:'))\n",
    "weight=float(input('Enter your Weight:'))\n",
    "print(\"Your account Created Successfully!\")\n",
    "type(age),type(weight)"
   ]
  },
  {
   "cell_type": "code",
   "execution_count": 54,
   "metadata": {},
   "outputs": [
    {
     "name": "stdout",
     "output_type": "stream",
     "text": [
      "hellow Wellcome\n",
      "hellow  Wellcome\n",
      "hellowWellcome\n",
      "hellow Wellcome8\n",
      "wellcome\n",
      "'Books'-Numericwellcome\n",
      "'Books'-Numeric\n",
      "wellcome\n",
      "'Books'-Numeric@@@@\t wellcome\n"
     ]
    }
   ],
   "source": [
    "## how to use print function\n",
    "print(\"hellow\"+\" Wellcome\")\n",
    "print(\"hellow\",\" Wellcome\")\n",
    "print(\"hellow\"+\"Wellcome\")\n",
    "print(\"hellow\"+\" Wellcome\"+str(8))\n",
    "print(\"wellcome\")\n",
    "\n",
    "print(\"'Books'-Numeric\",end='')\n",
    "print(\"wellcome\")\n",
    "print(\"'Books'-Numeric\",end='\\n')\n",
    "print(\"wellcome\")\n",
    "print(\"'Books'-Numeric\",end='@@@@')\n",
    "print(\"\\t wellcome\")\n"
   ]
  },
  {
   "cell_type": "code",
   "execution_count": 65,
   "metadata": {},
   "outputs": [
    {
     "name": "stdout",
     "output_type": "stream",
     "text": [
      "Your account Created Successfully! prince 25 55.5\n",
      "prince Your account Created Successfully! 25\n",
      "prince Your account 25  55.5 Created Successfully!\n",
      "prince Your account  25 Created 55.5 Successfully!\n",
      "prince Your account 25 Created 55.5 Successfully!\n",
      "prince Your account 26 Created 55.5 Successfully!\n"
     ]
    }
   ],
   "source": [
    "## string formating\n",
    "print(\"Your account Created Successfully!\",name,age,weight)\n",
    "print(name,\"Your account Created Successfully!\",age)\n",
    "#1\n",
    "print(\"{0} Your account {1}  {2} Created Successfully!\".format(name,age,weight))\n",
    "#2\n",
    "print(\"%s Your account  %d Created %.1f Successfully!\" %(name,age,weight))\n",
    "#3\n",
    "print(f\"{name} Your account {age} Created {weight} Successfully!\")\n",
    "print(f\"{name} Your account {age+1} Created {weight} Successfully!\")"
   ]
  },
  {
   "cell_type": "markdown",
   "metadata": {},
   "source": [
    "# 2nd day"
   ]
  },
  {
   "cell_type": "markdown",
   "metadata": {},
   "source": [
    "## operator"
   ]
  },
  {
   "cell_type": "code",
   "execution_count": 86,
   "metadata": {},
   "outputs": [
    {
     "data": {
      "text/plain": [
       "True"
      ]
     },
     "execution_count": 86,
     "metadata": {},
     "output_type": "execute_result"
    }
   ],
   "source": [
    "## Arithmetic\n",
    "5+4\n",
    "4-2\n",
    "4*2\n",
    "4/2\n",
    "4//2\n",
    "5%2\n",
    "2**3\n",
    "\n",
    "## comparison\n",
    "2==2\n",
    "2==3\n",
    "2!=3\n",
    "2>3\n",
    "3>2\n",
    "3<2\n",
    "2<3\n",
    "4>=1\n",
    "\n",
    "##logical\n",
    "#and\n",
    "True and True\n",
    "True and False\n",
    "False and True\n",
    "False and False\n",
    "\n",
    "#or\n",
    "\n",
    "True or True\n",
    "True or False\n",
    "False or True\n",
    "False or False\n",
    "\n",
    "#not\n",
    "not True\n",
    "not False"
   ]
  },
  {
   "cell_type": "code",
   "execution_count": 93,
   "metadata": {},
   "outputs": [
    {
     "data": {
      "text/plain": [
       "3"
      ]
     },
     "execution_count": 93,
     "metadata": {},
     "output_type": "execute_result"
    }
   ],
   "source": [
    "#Bitwise\n",
    "5 & 2\n",
    "## p= 8 4 2 1\n",
    "## 5= 0 1 0 1\n",
    "## 2= 0 0 1 0\n",
    "#  0= 0 0 0 0\n",
    "5 | 2\n",
    "## p= 8 4 2 1\n",
    "## 5= 0 1 0 1\n",
    "## 2= 0 0 1 0\n",
    "#  7= 0 1 1 1\n",
    "\n",
    "5^2\n",
    "## p= 8 4 2 1\n",
    "## 5= 0 1 0 1\n",
    "## 2= 0 0 1 0\n",
    "#  7= 0 1 1 1\n",
    "\n",
    "~5^2\n",
    "\n",
    "~5\n",
    "## p=       4 2 1\n",
    "## 5=       1 0 1\n",
    "##1's com=  0 1 0\n",
    "#               +\n",
    "#               1\n",
    "#\n",
    " #left shift\n",
    "7<<1\n",
    "## p= 8 4 2 1\n",
    "#  7= 0 1 1 1 \n",
    "#  14= 1 1 1 0\n",
    "#right shift\n",
    "7>>1\n",
    "#  7= 0 1 1 1 \n",
    "#  3= 0 0 1 1\n"
   ]
  },
  {
   "cell_type": "code",
   "execution_count": 97,
   "metadata": {},
   "outputs": [
    {
     "data": {
      "text/plain": [
       "5"
      ]
     },
     "execution_count": 97,
     "metadata": {},
     "output_type": "execute_result"
    }
   ],
   "source": [
    "## Assignment\n",
    "# =\n",
    "num=3\n",
    "num=num+1\n",
    "num\n",
    "num+=1\n",
    "num"
   ]
  },
  {
   "cell_type": "code",
   "execution_count": 102,
   "metadata": {},
   "outputs": [
    {
     "data": {
      "text/plain": [
       "(True, False)"
      ]
     },
     "execution_count": 102,
     "metadata": {},
     "output_type": "execute_result"
    }
   ],
   "source": [
    "##special operator\n",
    "'n' in 'prince'\n",
    "'n' not in 'prince'\n",
    "a=2\n",
    "b=2.0\n",
    "a==b,(a is b)"
   ]
  },
  {
   "cell_type": "markdown",
   "metadata": {},
   "source": [
    "# task 1"
   ]
  },
  {
   "cell_type": "code",
   "execution_count": 109,
   "metadata": {},
   "outputs": [
    {
     "name": "stdout",
     "output_type": "stream",
     "text": [
      "Addtion: 5\n",
      "Subtruction: -1\n",
      "Multiplication: 6\n",
      "Division: -1\n",
      "Reminder: 2\n",
      "Power: 8\n"
     ]
    }
   ],
   "source": [
    "num1=int(input(\"Enter the value of Num1:\"))\n",
    "num2=int(input(\"Enter the value of Num2:\"))\n",
    "Addition=num1+num2\n",
    "print('Addtion:',Addition)\n",
    "Subtruction=num1-num2\n",
    "print('Subtruction:',Subtruction)\n",
    "Multiplication=num1*num2\n",
    "print('Multiplication:',Multiplication)\n",
    "Division=num1-num2\n",
    "print('Division:',Division)\n",
    "Reminder=num1%num2\n",
    "print('Reminder:',Reminder)\n",
    "Power=num1**num2\n",
    "print('Power:',Power)\n",
    "\n",
    "\n",
    "\n",
    "\n"
   ]
  },
  {
   "cell_type": "markdown",
   "metadata": {},
   "source": [
    "# 3rd day"
   ]
  },
  {
   "cell_type": "markdown",
   "metadata": {},
   "source": [
    "# Data Structure\n"
   ]
  },
  {
   "cell_type": "code",
   "execution_count": 165,
   "metadata": {},
   "outputs": [
    {
     "data": {
      "text/plain": [
       "[25, 11, 6, 5, 4, 3, 2, 2, 1]"
      ]
     },
     "execution_count": 165,
     "metadata": {},
     "output_type": "execute_result"
    }
   ],
   "source": [
    "#list\n",
    "rolls=[1,2,3,'prince',True]\n",
    "##Accessing Data\n",
    "rolls[4]\n",
    "len(rolls)\n",
    "rolls[-1]\n",
    "\n",
    "##slice\n",
    "rolls[1:3]\n",
    "rolls[1:]\n",
    "rolls[:3]\n",
    "nums=[1,2,3,4,5,6]\n",
    "nums[::2]\n",
    "nums[::-1]\n",
    "nums[::-2]\n",
    "'python'[3]\n",
    "'python'[::-3]\n",
    "\n",
    "#Update\n",
    "nums[2]=11\n",
    "nums\n",
    "\n",
    "#functions\n",
    "nums.append(25)\n",
    "nums\n",
    "#nums.append([1,2,3])\n",
    "nums\n",
    "nums.insert(0,2)\n",
    "nums\n",
    "nums.extend([1,2,3])\n",
    "nums\n",
    "nums + [5,6,7]\n",
    "nums.remove(2)\n",
    "nums\n",
    "nums.index(2)\n",
    "nums\n",
    "nums.pop(-3)\n",
    "nums\n",
    "nums.count(2)\n",
    "nums.sort()\n",
    "nums.sort(reverse=True)\n",
    "nums\n",
    "nums.reverse()\n",
    "nums"
   ]
  },
  {
   "cell_type": "code",
   "execution_count": null,
   "metadata": {},
   "outputs": [],
   "source": [
    "#Tuple()\n",
    "\n",
    "nums=tuple(nums)\n",
    "nums\n",
    "num=(1,2,4,5)\n",
    "nums[::2]\n",
    "type(num)\n"
   ]
  },
  {
   "cell_type": "code",
   "execution_count": 2,
   "metadata": {},
   "outputs": [
    {
     "data": {
      "text/plain": [
       "4"
      ]
     },
     "execution_count": 2,
     "metadata": {},
     "output_type": "execute_result"
    }
   ],
   "source": [
    "#set{}\n",
    "s={2,3,4,2,2,5,4}\n",
    "s1={1,3,4,6,9}\n",
    "s.add(8)\n",
    "#s.clear()\n",
    "s.difference(s1)\n",
    "s1.difference(s)\n",
    "s.intersection(s1)\n",
    "s.union(s1)\n",
    "s.pop()\n",
    "#s.update({23,13,45,55})\n",
    "#s\n",
    "#s.difference_update(s1)\n",
    "s.symmetric_difference(s1)\n",
    "s.discard(9)\n",
    "s\n",
    "s.issubset(s1)\n",
    "{1,2,3}.issuperset({2,3})\n",
    "len(s)"
   ]
  },
  {
   "cell_type": "code",
   "execution_count": 213,
   "metadata": {},
   "outputs": [
    {
     "data": {
      "text/plain": [
       "{6: None, 7: None, 8: None}"
      ]
     },
     "execution_count": 213,
     "metadata": {},
     "output_type": "execute_result"
    }
   ],
   "source": [
    "##Dictionary\n",
    "d={1:'prince',2:'Nipu','avg':25}\n",
    "type(d)\n",
    "d.keys(),d.values(),d.items()\n",
    "d[2]\n",
    "d['avg']=30\n",
    "d\n",
    "d['avg']\n",
    "d.get('avg')\n",
    "#print(d.get('avggggg'))\n",
    "d.pop(1)\n",
    "d\n",
    "d[3]='rayan'\n",
    "d\n",
    "d.update({4:'polash'})\n",
    "d\n",
    "d.update({4:[1,2,3]})\n",
    "d\n",
    "d.popitem()\n",
    "d.setdefault(4,'D')\n",
    "d\n",
    "d1=d.fromkeys([6,7,8])\n",
    "d1\n"
   ]
  }
 ],
 "metadata": {
  "interpreter": {
   "hash": "5e02d0efff813a9368c354e505ea65821711dca306094a6f79d155d3e22f7a88"
  },
  "kernelspec": {
   "display_name": "Python 3.9.7 64-bit",
   "name": "python3"
  },
  "language_info": {
   "codemirror_mode": {
    "name": "ipython",
    "version": 3
   },
   "file_extension": ".py",
   "mimetype": "text/x-python",
   "name": "python",
   "nbconvert_exporter": "python",
   "pygments_lexer": "ipython3",
   "version": "3.9.7"
  },
  "orig_nbformat": 4
 },
 "nbformat": 4,
 "nbformat_minor": 2
}
